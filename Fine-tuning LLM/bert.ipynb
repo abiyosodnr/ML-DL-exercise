{
 "cells": [
  {
   "cell_type": "markdown",
   "id": "a48961c2",
   "metadata": {},
   "source": [
    "# Import library"
   ]
  },
  {
   "cell_type": "code",
   "execution_count": 4,
   "id": "2f93d963",
   "metadata": {},
   "outputs": [],
   "source": [
    "import pandas as pd\n",
    "import transformers\n",
    "import torch\n",
    "from sklearn.model_selection import train_test_split\n",
    "from sklearn.metrics import classification_report\n",
    "from transformers import BertTokenizer, BertForSequenceClassification, Trainer, TrainingArguments\n",
    "from transformers import DataCollatorWithPadding\n",
    "from transformers import TrainingArguments\n",
    "from datasets import Dataset"
   ]
  },
  {
   "cell_type": "markdown",
   "id": "8af1b01b",
   "metadata": {},
   "source": [
    "# Cek GPU"
   ]
  },
  {
   "cell_type": "code",
   "execution_count": 5,
   "id": "42b06420",
   "metadata": {},
   "outputs": [
    {
     "name": "stdout",
     "output_type": "stream",
     "text": [
      "Using device: cuda\n",
      "4.40.1\n"
     ]
    }
   ],
   "source": [
    "device = torch.device(\"cuda\" if torch.cuda.is_available() else \"cpu\")\n",
    "print(\"Using device:\", device)\n",
    "\n",
    "print(transformers.__version__)"
   ]
  },
  {
   "cell_type": "markdown",
   "id": "f00e06cd",
   "metadata": {},
   "source": [
    "# Data"
   ]
  },
  {
   "cell_type": "code",
   "execution_count": 6,
   "id": "14bff803",
   "metadata": {},
   "outputs": [],
   "source": [
    "data = {\n",
    "    'text': [\n",
    "        'saya sangat menikmati film ini, ceritanya menarik banget',\n",
    "        'akting pemain film ini luar biasa, sangat menghibur',\n",
    "        'film ini memiliki plot yang luar biasa dan sangat menyentuh',\n",
    "        'film yang sangat cocok untuk ditonton bersama keluarga',\n",
    "        'saya sangat terkesan dengan akting aktor utama film ini',\n",
    "        'film ini tidak sesuai dengan harapan saya, sangat membosankan',\n",
    "        'alur film ini sangat datar dan kurang menarik',\n",
    "        'saya kecewa dengan kualitas film ini, tidak sebanding dengan review',\n",
    "        'film ini terlalu panjang dan membosankan, tidak ada yang istimewa',\n",
    "        'cerita film ini sangat kaku dan tidak masuk akal',\n",
    "        'musik dalam film ini sangat menyentuh dan menambah suasana',\n",
    "        'pengambilan gambar dalam film ini sangat estetis dan menawan',\n",
    "        'skenario film ini sangat kuat dan penuh kejutan',\n",
    "        'film ini sangat buruk, banyak adegan yang tidak jelas',\n",
    "        'saya bingung dengan alur cerita film ini, tidak konsisten'\n",
    "    ],\n",
    "    'label': [\n",
    "        'positif', 'positif', 'positif', 'positif', 'positif',\n",
    "        'negatif', 'negatif', 'negatif', 'negatif', 'negatif',\n",
    "        'positif', 'positif', 'positif', 'negatif', 'negatif'\n",
    "    ]\n",
    "}\n",
    "\n",
    "df = pd.DataFrame(data)"
   ]
  },
  {
   "cell_type": "markdown",
   "id": "ab2d5a11",
   "metadata": {},
   "source": [
    "# Label encoding"
   ]
  },
  {
   "cell_type": "code",
   "execution_count": 7,
   "id": "1b6cf0f9",
   "metadata": {},
   "outputs": [],
   "source": [
    "df['label'] = df['label'].map({'negatif': 0, 'positif': 1})"
   ]
  },
  {
   "cell_type": "markdown",
   "id": "73f8d900",
   "metadata": {},
   "source": [
    "# Split data"
   ]
  },
  {
   "cell_type": "code",
   "execution_count": 8,
   "id": "233524f1",
   "metadata": {},
   "outputs": [],
   "source": [
    "train_texts, test_texts, train_labels, test_labels = train_test_split(\n",
    "    df['text'], df['label'], test_size=0.2, random_state=42, stratify=df['label']\n",
    ")"
   ]
  },
  {
   "cell_type": "markdown",
   "id": "1c754146",
   "metadata": {},
   "source": [
    "# Load IndoBert tokenizer"
   ]
  },
  {
   "cell_type": "code",
   "execution_count": 9,
   "id": "5dc36dcd",
   "metadata": {},
   "outputs": [
    {
     "name": "stderr",
     "output_type": "stream",
     "text": [
      "c:\\Users\\Abiyoso\\AppData\\Local\\Programs\\Python\\Python312\\Lib\\site-packages\\huggingface_hub\\file_download.py:943: FutureWarning: `resume_download` is deprecated and will be removed in version 1.0.0. Downloads always resume when possible. If you want to force a new download, use `force_download=True`.\n",
      "  warnings.warn(\n"
     ]
    }
   ],
   "source": [
    "tokenizer = BertTokenizer.from_pretrained(\"indobenchmark/indobert-base-p1\")"
   ]
  },
  {
   "cell_type": "markdown",
   "id": "ddb59f22",
   "metadata": {},
   "source": [
    "# Tokenization"
   ]
  },
  {
   "cell_type": "code",
   "execution_count": 10,
   "id": "e7877ab5",
   "metadata": {},
   "outputs": [
    {
     "name": "stderr",
     "output_type": "stream",
     "text": [
      "Asking to truncate to max_length but no maximum length is provided and the model has no predefined maximum length. Default to no truncation.\n"
     ]
    }
   ],
   "source": [
    "train_encodings = tokenizer(list(train_texts), truncation=True, padding=True)\n",
    "test_encodings = tokenizer(list(test_texts), truncation=True, padding=True)"
   ]
  },
  {
   "cell_type": "markdown",
   "id": "80d3fa73",
   "metadata": {},
   "source": [
    "# Convert ke Dataset"
   ]
  },
  {
   "cell_type": "code",
   "execution_count": 11,
   "id": "477a20e9",
   "metadata": {},
   "outputs": [],
   "source": [
    "train_dataset = Dataset.from_dict({**train_encodings, 'label': train_labels.tolist()})\n",
    "test_dataset = Dataset.from_dict({**test_encodings, 'label': test_labels.tolist()})"
   ]
  },
  {
   "cell_type": "markdown",
   "id": "497a3a7a",
   "metadata": {},
   "source": [
    "# Load IndoBERT untuk classification"
   ]
  },
  {
   "cell_type": "code",
   "execution_count": 12,
   "id": "e4fe14b5",
   "metadata": {},
   "outputs": [
    {
     "name": "stderr",
     "output_type": "stream",
     "text": [
      "Some weights of BertForSequenceClassification were not initialized from the model checkpoint at indobenchmark/indobert-base-p1 and are newly initialized: ['classifier.bias', 'classifier.weight']\n",
      "You should probably TRAIN this model on a down-stream task to be able to use it for predictions and inference.\n"
     ]
    }
   ],
   "source": [
    "model = BertForSequenceClassification.from_pretrained(\"indobenchmark/indobert-base-p1\", num_labels=2).to(device)"
   ]
  },
  {
   "cell_type": "markdown",
   "id": "5433ac38",
   "metadata": {},
   "source": [
    "# Training Arguments"
   ]
  },
  {
   "cell_type": "code",
   "execution_count": 13,
   "id": "2b69f4a3",
   "metadata": {},
   "outputs": [],
   "source": [
    "training_args = TrainingArguments(\n",
    "    output_dir=\"./results\",\n",
    "    learning_rate=2e-5,\n",
    "    per_device_train_batch_size=4,\n",
    "    per_device_eval_batch_size=4,\n",
    "    num_train_epochs=5,\n",
    "    weight_decay=0.01,\n",
    "    evaluation_strategy=\"epoch\",\n",
    "    logging_dir=\"./logs\",\n",
    "    logging_steps=10,\n",
    "    seed=42,\n",
    ")"
   ]
  },
  {
   "cell_type": "markdown",
   "id": "d64079be",
   "metadata": {},
   "source": [
    "# Trainer"
   ]
  },
  {
   "cell_type": "code",
   "execution_count": 14,
   "id": "91199897",
   "metadata": {},
   "outputs": [],
   "source": [
    "trainer = Trainer(\n",
    "    model=model,\n",
    "    args=training_args,\n",
    "    train_dataset=train_dataset,\n",
    "    eval_dataset=test_dataset,\n",
    "    tokenizer=tokenizer,\n",
    "    data_collator=DataCollatorWithPadding(tokenizer),\n",
    ")"
   ]
  },
  {
   "cell_type": "markdown",
   "id": "1c925b23",
   "metadata": {},
   "source": [
    "# Train Model"
   ]
  },
  {
   "cell_type": "code",
   "execution_count": 15,
   "id": "5a90988c",
   "metadata": {},
   "outputs": [
    {
     "data": {
      "application/vnd.jupyter.widget-view+json": {
       "model_id": "2e7a231eac5a44f8b372223b926ecda1",
       "version_major": 2,
       "version_minor": 0
      },
      "text/plain": [
       "  0%|          | 0/15 [00:00<?, ?it/s]"
      ]
     },
     "metadata": {},
     "output_type": "display_data"
    },
    {
     "data": {
      "application/vnd.jupyter.widget-view+json": {
       "model_id": "38cf959ca8b34797950031975f169ac9",
       "version_major": 2,
       "version_minor": 0
      },
      "text/plain": [
       "  0%|          | 0/1 [00:00<?, ?it/s]"
      ]
     },
     "metadata": {},
     "output_type": "display_data"
    },
    {
     "name": "stdout",
     "output_type": "stream",
     "text": [
      "{'eval_loss': 0.6118221879005432, 'eval_runtime': 0.0798, 'eval_samples_per_second': 37.584, 'eval_steps_per_second': 12.528, 'epoch': 1.0}\n"
     ]
    },
    {
     "data": {
      "application/vnd.jupyter.widget-view+json": {
       "model_id": "31a3cfb49c0d482d97e2e519f7e4ea46",
       "version_major": 2,
       "version_minor": 0
      },
      "text/plain": [
       "  0%|          | 0/1 [00:00<?, ?it/s]"
      ]
     },
     "metadata": {},
     "output_type": "display_data"
    },
    {
     "name": "stdout",
     "output_type": "stream",
     "text": [
      "{'eval_loss': 0.4353550374507904, 'eval_runtime': 0.0674, 'eval_samples_per_second': 44.478, 'eval_steps_per_second': 14.826, 'epoch': 2.0}\n"
     ]
    },
    {
     "data": {
      "application/vnd.jupyter.widget-view+json": {
       "model_id": "b75128560d1641b0a6f6590a3bd64391",
       "version_major": 2,
       "version_minor": 0
      },
      "text/plain": [
       "  0%|          | 0/1 [00:00<?, ?it/s]"
      ]
     },
     "metadata": {},
     "output_type": "display_data"
    },
    {
     "name": "stdout",
     "output_type": "stream",
     "text": [
      "{'eval_loss': 0.3519708216190338, 'eval_runtime': 0.0739, 'eval_samples_per_second': 40.584, 'eval_steps_per_second': 13.528, 'epoch': 3.0}\n",
      "{'loss': 0.4699, 'grad_norm': 3.7304487228393555, 'learning_rate': 6.666666666666667e-06, 'epoch': 3.33}\n"
     ]
    },
    {
     "data": {
      "application/vnd.jupyter.widget-view+json": {
       "model_id": "263db17db51d4db2bdb6bd89967178fb",
       "version_major": 2,
       "version_minor": 0
      },
      "text/plain": [
       "  0%|          | 0/1 [00:00<?, ?it/s]"
      ]
     },
     "metadata": {},
     "output_type": "display_data"
    },
    {
     "name": "stdout",
     "output_type": "stream",
     "text": [
      "{'eval_loss': 0.26879024505615234, 'eval_runtime': 0.0756, 'eval_samples_per_second': 39.67, 'eval_steps_per_second': 13.223, 'epoch': 4.0}\n"
     ]
    },
    {
     "data": {
      "application/vnd.jupyter.widget-view+json": {
       "model_id": "d29b8ade34bd4723a204203bf33e01f6",
       "version_major": 2,
       "version_minor": 0
      },
      "text/plain": [
       "  0%|          | 0/1 [00:00<?, ?it/s]"
      ]
     },
     "metadata": {},
     "output_type": "display_data"
    },
    {
     "name": "stdout",
     "output_type": "stream",
     "text": [
      "{'eval_loss': 0.22607390582561493, 'eval_runtime': 0.0728, 'eval_samples_per_second': 41.198, 'eval_steps_per_second': 13.733, 'epoch': 5.0}\n",
      "{'train_runtime': 1.9616, 'train_samples_per_second': 30.588, 'train_steps_per_second': 7.647, 'train_loss': 0.3609752058982849, 'epoch': 5.0}\n"
     ]
    },
    {
     "data": {
      "text/plain": [
       "TrainOutput(global_step=15, training_loss=0.3609752058982849, metrics={'train_runtime': 1.9616, 'train_samples_per_second': 30.588, 'train_steps_per_second': 7.647, 'total_flos': 400833248400.0, 'train_loss': 0.3609752058982849, 'epoch': 5.0})"
      ]
     },
     "execution_count": 15,
     "metadata": {},
     "output_type": "execute_result"
    }
   ],
   "source": [
    "trainer.train()"
   ]
  },
  {
   "cell_type": "markdown",
   "id": "798ace54",
   "metadata": {},
   "source": [
    "# Evaluate"
   ]
  },
  {
   "cell_type": "code",
   "execution_count": 16,
   "id": "089e8d26",
   "metadata": {},
   "outputs": [
    {
     "data": {
      "application/vnd.jupyter.widget-view+json": {
       "model_id": "c0c3d04d56f84ebc8bf640f5c5d3ddab",
       "version_major": 2,
       "version_minor": 0
      },
      "text/plain": [
       "  0%|          | 0/1 [00:00<?, ?it/s]"
      ]
     },
     "metadata": {},
     "output_type": "display_data"
    },
    {
     "name": "stdout",
     "output_type": "stream",
     "text": [
      "\n",
      "Classification Report:\n",
      "              precision    recall  f1-score   support\n",
      "\n",
      "     negatif       1.00      1.00      1.00         1\n",
      "     positif       1.00      1.00      1.00         2\n",
      "\n",
      "    accuracy                           1.00         3\n",
      "   macro avg       1.00      1.00      1.00         3\n",
      "weighted avg       1.00      1.00      1.00         3\n",
      "\n"
     ]
    }
   ],
   "source": [
    "predictions = trainer.predict(test_dataset)\n",
    "preds = predictions.predictions.argmax(-1)\n",
    "\n",
    "print(\"\\nClassification Report:\")\n",
    "print(classification_report(test_labels, preds, target_names=[\"negatif\", \"positif\"]))"
   ]
  }
 ],
 "metadata": {
  "kernelspec": {
   "display_name": "Python 3",
   "language": "python",
   "name": "python3"
  },
  "language_info": {
   "codemirror_mode": {
    "name": "ipython",
    "version": 3
   },
   "file_extension": ".py",
   "mimetype": "text/x-python",
   "name": "python",
   "nbconvert_exporter": "python",
   "pygments_lexer": "ipython3",
   "version": "3.12.8"
  }
 },
 "nbformat": 4,
 "nbformat_minor": 5
}
